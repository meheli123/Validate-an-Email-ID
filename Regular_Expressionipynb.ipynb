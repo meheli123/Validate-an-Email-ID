{
  "nbformat": 4,
  "nbformat_minor": 0,
  "metadata": {
    "colab": {
      "name": "Regular_Expressionipynb",
      "provenance": []
    },
    "kernelspec": {
      "name": "python3",
      "display_name": "Python 3"
    },
    "language_info": {
      "name": "python"
    }
  },
  "cells": [
    {
      "cell_type": "markdown",
      "metadata": {
        "id": "y2YktJY8r5BC"
      },
      "source": [
        "#### To validate an Email Address"
      ]
    },
    {
      "cell_type": "code",
      "metadata": {
        "id": "0Cud6E7Nrt_a"
      },
      "source": [
        "import re"
      ],
      "execution_count": 1,
      "outputs": []
    },
    {
      "cell_type": "code",
      "metadata": {
        "colab": {
          "base_uri": "https://localhost:8080/",
          "height": 0
        },
        "id": "-ZNY0QIusA1L",
        "outputId": "50989ae2-7420-48cd-bd4c-3314800d5b63"
      },
      "source": [
        "mystring = input(str(\"Enter an email address : \"))\n",
        "print(re.match('[a-zA-Z0-9]+.[0-9a-zA-Z0-9]+[_a-zA-Z0-9]*@[a-zA-Z]+', mystring))"
      ],
      "execution_count": 7,
      "outputs": [
        {
          "output_type": "stream",
          "name": "stdout",
          "text": [
            "Enter an email address : abc1290.199xyz_12@gmail.com\n",
            "<re.Match object; span=(0, 23), match='abc1290.199xyz_12@gmail'>\n"
          ]
        }
      ]
    }
  ]
}